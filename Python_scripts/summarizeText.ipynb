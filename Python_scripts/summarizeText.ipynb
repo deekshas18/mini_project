{
 "cells": [
  {
   "cell_type": "code",
   "execution_count": 1,
   "metadata": {},
   "outputs": [
    {
     "ename": "NameError",
     "evalue": "name 'text' is not defined",
     "output_type": "error",
     "traceback": [
      "\u001b[0;31m---------------------------------------------------------------------------\u001b[0m",
      "\u001b[0;31mNameError\u001b[0m                                 Traceback (most recent call last)",
      "Cell \u001b[0;32mIn[1], line 2\u001b[0m\n\u001b[1;32m      1\u001b[0m \u001b[38;5;28;01mimport\u001b[39;00m \u001b[38;5;21;01msubprocess\u001b[39;00m\n\u001b[0;32m----> 2\u001b[0m cased \u001b[38;5;241m=\u001b[39m subprocess\u001b[38;5;241m.\u001b[39mcheck_output(\u001b[38;5;124m'\u001b[39m\u001b[38;5;124mpython3 recasepunc/recasepunc.py predict recasepunc/checkpoint\u001b[39m\u001b[38;5;124m'\u001b[39m, shell\u001b[38;5;241m=\u001b[39m\u001b[38;5;28;01mTrue\u001b[39;00m, text\u001b[38;5;241m=\u001b[39m\u001b[38;5;28;01mTrue\u001b[39;00m, \u001b[38;5;28minput\u001b[39m\u001b[38;5;241m=\u001b[39m\u001b[43mtext\u001b[49m)\n\u001b[1;32m      3\u001b[0m \u001b[38;5;28mprint\u001b[39m(cased)\n\u001b[1;32m      5\u001b[0m \u001b[38;5;28;01mdef\u001b[39;00m \u001b[38;5;21mvoice_recognition\u001b[39m(filename):\n",
      "\u001b[0;31mNameError\u001b[0m: name 'text' is not defined"
     ]
    }
   ],
   "source": [
    "import sys\n",
    "import subprocess\n",
    "from transformers import pipeline\n",
    "import os\n",
    "\n",
    "def add_punctuation(text):\n",
    "    \"\"\"\n",
    "    Add punctuation to the text using recasepunc model.\n",
    "    \"\"\"\n",
    "    try:\n",
    "        cased = subprocess.check_output(\n",
    "            'python3 /media/anagha/Data/Mini_Project_Current/mini_project/Python_scripts/recasepunc/recasepunc.py predict /media/anagha/Data/Mini_Project_Current/mini_project/Python_scripts/recasepunc/checkpoint',\n",
    "            shell=True, text=True, input=text\n",
    "        )\n",
    "        return cased\n",
    "    except subprocess.CalledProcessError as e:\n",
    "        print(f\"Error in add_punctuation: {e.output}\")\n",
    "        sys.exit(1)\n",
    "\n",
    "def summarize_text(text):\n",
    "    \"\"\"\n",
    "    Summarize the text using a transformer summarization model.\n",
    "    \"\"\"\n",
    "    summarizer = pipeline(\"summarization\", model=\"t5-small\")\n",
    "\n",
    "    split_tokens = text.split(\" \")\n",
    "    docs = [\" \".join(split_tokens[i:i+850]) for i in range(0, len(split_tokens), 850)]\n",
    "\n",
    "    summaries = summarizer(docs)\n",
    "    summary = \"\\n\\n\".join([d[\"summary_text\"] for d in summaries])\n",
    "    \n",
    "    return summary\n",
    "\n",
    "def main():\n",
    "    # Ensure we have the filename argument\n",
    "    if len(sys.argv) != 2:\n",
    "        print(\"Usage: python summarize_text.py <input_filename>\")\n",
    "        sys.exit(1)\n",
    "    \n",
    "    input_filename = sys.argv[1]\n",
    "\n",
    "    # Load the text file from the directory\n",
    "    with open(input_filename) as f:\n",
    "        text = f.read()\n",
    "\n",
    "    # Add punctuation to the text\n",
    "    punctuated_text = add_punctuation(text)\n",
    "\n",
    "    # Summarize the text\n",
    "    summary = summarize_text(punctuated_text)\n",
    "\n",
    "    # Ensure the summarized_file directory exists\n",
    "    output_dir = \"summarized_files\"\n",
    "    if not os.path.exists(output_dir):\n",
    "        os.makedirs(output_dir)\n",
    "\n",
    "    # Output the summary to a file in the summarized_file directory\n",
    "    input_base = os.path.basename(input_filename)\n",
    "    input_name, _ = os.path.splitext(input_base)\n",
    "    output_filename = os.path.join(output_dir, f\"{input_name}_summary.txt\")\n",
    "\n",
    "    with open(output_filename, \"w\") as f:\n",
    "        f.write(summary)\n",
    "    \n",
    "    print(f\"{output_filename}\")\n",
    "\n",
    "if __name__ == \"__main__\":\n",
    "    main()\n"
   ]
  },
  {
   "cell_type": "code",
   "execution_count": null,
   "metadata": {},
   "outputs": [],
   "source": []
  }
 ],
 "metadata": {
  "kernelspec": {
   "display_name": "Python 3 (ipykernel)",
   "language": "python",
   "name": "python3"
  },
  "language_info": {
   "codemirror_mode": {
    "name": "ipython",
    "version": 3
   },
   "file_extension": ".py",
   "mimetype": "text/x-python",
   "name": "python",
   "nbconvert_exporter": "python",
   "pygments_lexer": "ipython3",
   "version": "3.12.0"
  }
 },
 "nbformat": 4,
 "nbformat_minor": 2
}
